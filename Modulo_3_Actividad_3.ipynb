{
  "nbformat": 4,
  "nbformat_minor": 0,
  "metadata": {
    "colab": {
      "provenance": [],
      "authorship_tag": "ABX9TyN2n9MtcgFhEqyNfuXlNzoQ",
      "include_colab_link": true
    },
    "kernelspec": {
      "name": "python3",
      "display_name": "Python 3"
    },
    "language_info": {
      "name": "python"
    }
  },
  "cells": [
    {
      "cell_type": "markdown",
      "metadata": {
        "id": "view-in-github",
        "colab_type": "text"
      },
      "source": [
        "<a href=\"https://colab.research.google.com/github/prolabfin/CURSO_ADALID_ANALISISDATOS/blob/main/Modulo_3_Actividad_3.ipynb\" target=\"_parent\"><img src=\"https://colab.research.google.com/assets/colab-badge.svg\" alt=\"Open In Colab\"/></a>"
      ]
    },
    {
      "cell_type": "code",
      "execution_count": 1,
      "metadata": {
        "colab": {
          "base_uri": "https://localhost:8080/"
        },
        "id": "4olaPVzu4VAb",
        "outputId": "9d54d9fe-95fc-4697-ef14-715dbcb84672"
      },
      "outputs": [
        {
          "output_type": "stream",
          "name": "stdout",
          "text": [
            "                   Nombre  Calificación   Precio\n",
            "0                 Cuphead           100   180.00\n",
            "1            Doom eternal            99  1400.00\n",
            "2       Horizon Zero Dawn            90   450.70\n",
            "3  Resident Evil 2 Remake            95   450.88\n",
            "4     Super Mario Odyssey            90  1700.05\n",
            "5               Minecraft            95   550.54\n",
            "El precio promedio es: 788.695\n",
            "La calificación promedio es: 94.83333333333333\n"
          ]
        }
      ],
      "source": [
        "\n",
        "# desde aca copio\n",
        "import pandas as pd\n",
        "import numpy as np\n",
        "\n",
        "# Leer el archivo CSV\n",
        "df = pd.read_csv(\"/content/videojuegos.csv\", header=0)\n",
        "print(df)\n",
        "# Calcular el promedio de los precios\n",
        "precio_promedio = df[\"Precio\"].mean()\n",
        "\n",
        "# Calcular el promedio de la calificación\n",
        "calificacion_promedio = df[\"Calificación\"].mean()\n",
        "\n",
        "# Imprimir los resultados\n",
        "print(\"El precio promedio es:\", precio_promedio)\n",
        "print(\"La calificación promedio es:\", calificacion_promedio)\n",
        "\n"
      ]
    },
    {
      "cell_type": "code",
      "source": [
        "import pandas as pd\n",
        "import numpy as np\n",
        "\n",
        "# Leer el archivo CSV\n",
        "df2 = pd.read_csv(\"/content/videojuegos2v2.csv\", header = 0)\n",
        "print(df2)\n",
        "\n",
        "    "
      ],
      "metadata": {
        "id": "jhsSinlMJZGU",
        "colab": {
          "base_uri": "https://localhost:8080/"
        },
        "outputId": "0b3ea837-e3b4-458a-a9ee-c46621717b6d"
      },
      "execution_count": 1,
      "outputs": [
        {
          "output_type": "stream",
          "name": "stdout",
          "text": [
            "           Nombre;Ano;Consola;Calificacion;Categoria\n",
            "0  The Legend of Zelda;1986;Famicom Disk System;3...\n",
            "1           Double Dragon;1987;Arcade;37;Beat-'em up\n",
            "2       The Legend of Zelda;1988;NES;43;RPG Aventura\n",
            "3  Halo 5: Guardians;2015;Xbox One;4;FPS Master C...\n",
            "4      Curse of Ra;1982;Commodore PET;3;RPG Aventura\n",
            "5             Battlefield 1;2016;Xbox One;48;FPS WWI\n"
          ]
        }
      ]
    },
    {
      "cell_type": "code",
      "source": [
        "import pandas as pd\n",
        "import numpy as np\n",
        "\n",
        "# Leer el archivo CSV\n",
        "\n",
        "\n",
        "# Leer el archivo CSV\n",
        "\n",
        "df3 = pd.read_csv(\"/content/videojuegos2v2.csv\", sep = ';', header = 0)\n",
        "\n",
        "\n",
        "print(df3)\n"
      ],
      "metadata": {
        "colab": {
          "base_uri": "https://localhost:8080/"
        },
        "id": "imEDHx-bZl57",
        "outputId": "96850902-1efb-4109-d958-fade193c0644"
      },
      "execution_count": 2,
      "outputs": [
        {
          "output_type": "stream",
          "name": "stdout",
          "text": [
            "                Nombre   Ano              Consola  Calificacion  \\\n",
            "0  The Legend of Zelda  1986  Famicom Disk System            35   \n",
            "1        Double Dragon  1987               Arcade            37   \n",
            "2  The Legend of Zelda  1988                  NES            43   \n",
            "3    Halo 5: Guardians  2015             Xbox One             4   \n",
            "4          Curse of Ra  1982        Commodore PET             3   \n",
            "5        Battlefield 1  2016             Xbox One            48   \n",
            "\n",
            "          Categoria  \n",
            "0      RPG Aventura  \n",
            "1       Beat-'em up  \n",
            "2      RPG Aventura  \n",
            "3  FPS Master Chief  \n",
            "4      RPG Aventura  \n",
            "5           FPS WWI  \n"
          ]
        }
      ]
    },
    {
      "cell_type": "code",
      "source": [
        "import pandas as pd\n",
        "\n",
        "def juegosConsolas(nomArchivo, categoria, decada):\n",
        "    # ya se tiene el archivo CSV en un DataFrame df3\n",
        "     df4 = pd.read_csv(\"/content/videojuegos2v2.csv\", sep = ';', header = 0)\n",
        "\n",
        "    # Filtrar los juegos por categoría y década\n",
        "    juegos_filtrados = df4[(df4['Categoria'] == categoria) & (df4['Ano'] // 10 == decada // 10)]\n",
        "\n",
        "    # Obtener los valores únicos de los juegos y las consolas\n",
        "    juegos_unicos = juegos_filtrados['Nombre'].unique()\n",
        "    consolas_unicas = juegos_filtrados['Consola'].unique()\n",
        "\n",
        "    # Retornar la tupla con los valores únicos de juegos y consolas\n",
        "    return (list(juegos_unicos), list(consolas_unicas))\n",
        "\n",
        "    resultado = juegosConsolas('/content/videojuegos2v2.csv', 'RPG Aventura', 1986)\n",
        "\n",
        "print(resultado)\n",
        "\n"
      ],
      "metadata": {
        "id": "WmeP7izslYZv"
      },
      "execution_count": null,
      "outputs": []
    },
    {
      "cell_type": "code",
      "source": [
        "import pandas as pd\n",
        "import numpy as np\n",
        "\n",
        "#\n",
        "def crearMatriz(nomArchivo, categoria, decada):\n",
        "    # Cargar el archivo CSV en un DataFrame\n",
        "    df4 = pd.read_csv(nomArchivo)\n",
        "\n",
        "    # Filtrar los juegos por categoría y década\n",
        "    juegos_filtrados = df[(df['Categoria'] == categoria) & (df['Ano'] // 10 == decada // 10)]\n",
        "\n",
        "    # Obtener los juegos únicos y las consolas únicas\n",
        "    juegos_unicos = juegos_filtrados['Nombre'].unique()\n",
        "    consolas_unicas = juegos_filtrados['Consola'].unique()\n",
        "\n",
        "    # Crear una matriz con ceros de dimensiones juegos x consolas\n",
        "    matriz = np.zeros((len(juegos_unicos), len(consolas_unicas)))\n",
        "\n",
        "    # Asignar las calificaciones correspondientes a cada juego y consola en la matriz\n",
        "    for index, juego in enumerate(juegos_unicos):\n",
        "        juegos_consola = juegos_filtrados[juegos_filtrados['Nombre'] == juego]\n",
        "        for _, row in juegos_consola.iterrows():\n",
        "            consola = row['Consola']\n",
        "            calificacion = row['Calificacion']\n",
        "            consola_index = np.where(consolas_unicas == consola)[0][0]\n",
        "            matriz[index, consola_index] = calificacion\n",
        "\n",
        "    # Retornar la matriz creada\n",
        "    return matriz\n"
      ],
      "metadata": {
        "id": "9oM0d9wKEzqt"
      },
      "execution_count": null,
      "outputs": []
    }
  ]
}