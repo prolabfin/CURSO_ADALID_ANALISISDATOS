{
  "nbformat": 4,
  "nbformat_minor": 0,
  "metadata": {
    "colab": {
      "provenance": [],
      "authorship_tag": "ABX9TyPO7BkJoKZ0dcbh5wIo9D7B",
      "include_colab_link": true
    },
    "kernelspec": {
      "name": "python3",
      "display_name": "Python 3"
    },
    "language_info": {
      "name": "python"
    }
  },
  "cells": [
    {
      "cell_type": "markdown",
      "metadata": {
        "id": "view-in-github",
        "colab_type": "text"
      },
      "source": [
        "<a href=\"https://colab.research.google.com/github/prolabfin/CURSO_ADALID_ANALISISDATOS/blob/main/Examen_final_Modulo_4.ipynb\" target=\"_parent\"><img src=\"https://colab.research.google.com/assets/colab-badge.svg\" alt=\"Open In Colab\"/></a>"
      ]
    },
    {
      "cell_type": "code",
      "execution_count": null,
      "metadata": {
        "colab": {
          "base_uri": "https://localhost:8080/"
        },
        "id": "MiSIKF0ZY9LH",
        "outputId": "189e6a68-4893-42cb-ab85-b12462e1a9b2"
      },
      "outputs": [
        {
          "output_type": "stream",
          "name": "stdout",
          "text": [
            "   calorias  tiempo\n",
            "L       420      60\n",
            "J       380      40\n",
            "X       390      75\n",
            "M       490      55\n",
            "V       300      45\n"
          ]
        }
      ],
      "source": [
        "# Crear un Data frame con los datos mostrados en la tabla del examen \n",
        "\n",
        "import pandas as pd\n",
        "\n",
        "# crear lista de índices\n",
        "indices = ['L', 'J', 'X', 'M', 'V']\n",
        "\n",
        "# crear diccionario con los datos\n",
        "datos = {'calorias': [420, 380, 390, 490, 300], 'tiempo': [60, 40, 75, 55, 45]}\n",
        "\n",
        "# crear dataframe\n",
        "df = pd.DataFrame(datos, index=indices)\n",
        "\n",
        "# imprimir dataframe\n",
        "print(df)"
      ]
    },
    {
      "cell_type": "code",
      "source": [
        "# calcular la media, mediana y desviación típica de ambas columnas\n",
        "\n",
        "# calcular la media de ambas columnas\n",
        "media_calorias = df['calorias'].mean()\n",
        "media_tiempo = df['tiempo'].mean()\n",
        "\n",
        "# calcular la mediana de ambas columnas\n",
        "mediana_calorias = df['calorias'].median()\n",
        "mediana_tiempo = df['tiempo'].median()\n",
        "\n",
        "# calcular la desviación típica de ambas columnas\n",
        "std_calorias = df['calorias'].std()\n",
        "std_tiempo = df['tiempo'].std()\n",
        "\n",
        "# imprimir resultados\n",
        "print('Media de calorias:', media_calorias)\n",
        "print('Media de tiempo:', media_tiempo)\n",
        "\n",
        "print('Mediana de calorias:', mediana_calorias)\n",
        "print('Mediana de tiempo:', mediana_tiempo)\n",
        "\n",
        "print('Desviación típica de calorias:', std_calorias)\n",
        "print('Desviación típica de tiempo:', std_tiempo)\n"
      ],
      "metadata": {
        "colab": {
          "base_uri": "https://localhost:8080/"
        },
        "id": "uq6vPWCsaFdf",
        "outputId": "c616864e-7b29-4ad4-90ee-715d13e8b024"
      },
      "execution_count": null,
      "outputs": [
        {
          "output_type": "stream",
          "name": "stdout",
          "text": [
            "Media de calorias: 396.0\n",
            "Media de tiempo: 55.0\n",
            "Mediana de calorias: 390.0\n",
            "Mediana de tiempo: 55.0\n",
            "Desviación típica de calorias: 68.7749954561976\n",
            "Desviación típica de tiempo: 13.693063937629153\n"
          ]
        }
      ]
    },
    {
      "cell_type": "code",
      "source": [
        "\n",
        "import pandas as pd\n",
        "# convertir la columna tiempo dada en minutos a horas \n",
        "\n",
        "# Convertir los valores de la columna tiempo de minutos a horas\n",
        "df['tiempo'] = df['tiempo'] / 60\n",
        "\n",
        "# Imprimir el DataFrame resultante\n",
        "print(df)\n"
      ],
      "metadata": {
        "colab": {
          "base_uri": "https://localhost:8080/"
        },
        "id": "TcHecdKMj1sW",
        "outputId": "ce119b43-d53e-4d92-c90e-b48fba754248"
      },
      "execution_count": null,
      "outputs": [
        {
          "output_type": "stream",
          "name": "stdout",
          "text": [
            "   calorias    tiempo\n",
            "L       420  1.000000\n",
            "J       380  0.666667\n",
            "X       390  1.250000\n",
            "M       490  0.916667\n",
            "V       300  0.750000\n"
          ]
        }
      ]
    },
    {
      "cell_type": "code",
      "source": [
        "# usando este mismo data frame calcular : Añadir otra columna booleana al DataFrame para ver si se ha\n",
        "#cumplido el reto de quemar más de 400 calorías por hora. La nueva\n",
        "#columna debe generarse aplicando una fórmula a las otras columnas. \n",
        "\n",
        "#***************************************************************************\n",
        "# Crear una nueva columna con la condición de que se hayan quemado más de 400 calorías por hora\n",
        "df['reto'] = df['calorias'] / df['tiempo'] > 400\n",
        "\n",
        "# Imprimir el DataFrame resultante\n",
        "print(df)\n",
        "\n",
        "Crear a partir del DataFrame una serie con los porcentajes de días que\n",
        "se ha conseguido el reto y los que no.\n",
        "\n",
        "# Mostrar por pantalla el porcentaje de personas que sobrevivieron y murieron\n",
        "#print(df['reto'].value_counts()/titanic['Survived'].count() * 100)\n",
        "\n"
      ],
      "metadata": {
        "colab": {
          "base_uri": "https://localhost:8080/"
        },
        "id": "Enp0p3RJkK7K",
        "outputId": "d21d7527-82ab-42ea-a8c7-cd91135650bf"
      },
      "execution_count": null,
      "outputs": [
        {
          "output_type": "stream",
          "name": "stdout",
          "text": [
            "   calorias    tiempo   reto\n",
            "L       420  1.000000   True\n",
            "J       380  0.666667   True\n",
            "X       390  1.250000  False\n",
            "M       490  0.916667   True\n",
            "V       300  0.750000  False\n"
          ]
        }
      ]
    },
    {
      "cell_type": "code",
      "source": [
        "#  volver a convertir la columna tiempo a minutos como antes e imrimir de nuevo el df \n",
        "\n",
        "import pandas as pd\n",
        "\n",
        "df['tiempo']= [60, 40, 75, 55, 45]\n",
        "print(df)\n"
      ],
      "metadata": {
        "colab": {
          "base_uri": "https://localhost:8080/"
        },
        "id": "zddASj_blNEa",
        "outputId": "a4db0c49-db85-433f-ff6c-b2cfc16067a3"
      },
      "execution_count": null,
      "outputs": [
        {
          "output_type": "stream",
          "name": "stdout",
          "text": [
            "   calorias  tiempo   reto\n",
            "L       420      60   True\n",
            "J       380      40   True\n",
            "X       390      75  False\n",
            "M       490      55   True\n",
            "V       300      45  False\n"
          ]
        }
      ]
    },
    {
      "cell_type": "code",
      "source": [
        "# Filtrar el DataFrame y devolver otro DataFrame  df_filtrado con las filas pares que\n",
        "#cumplan que el número de calorías es mayor de 400 para cada uno de los valores de la columna  'calorias'\n",
        "\n",
        "import pandas as pd\n",
        "# hay que convertir los indices del dataframe df a enteros y guardarlo en df_entero\n",
        "\n",
        "# crear lista de índices\n",
        "indices_int = [0, 1, 2, 3, 4]\n",
        "\n",
        "# crear dataframe con indices enteros \n",
        "df_entero = pd.DataFrame(datos, index=indices_int)\n",
        "# Filtrar el DataFrame\n",
        "df_filtrado = df[((df_entero.index % 2) == 0) & (df['calorias'] > 400)]\n",
        "\n",
        "# Imprimir el DataFrame resultante\n",
        "print(df_filtrado)\n",
        "# Otra forma  de hacerlo: # Mostrar por pantalla las filas pares del DataFrame.\n",
        "# print(df.iloc[range(0,df.shape[0],2)])\n"
      ],
      "metadata": {
        "colab": {
          "base_uri": "https://localhost:8080/"
        },
        "id": "iFYNW3g8s-hQ",
        "outputId": "61768f0f-28b7-4be6-d856-a54f21051acd"
      },
      "execution_count": null,
      "outputs": [
        {
          "output_type": "stream",
          "name": "stdout",
          "text": [
            "   calorias  tiempo  reto\n",
            "L       420      60  True\n"
          ]
        }
      ]
    },
    {
      "cell_type": "code",
      "source": [
        "import pandas as pd\n",
        "\n",
        "# Reorganizando el  DataFrame\n",
        "df = pd.DataFrame({\n",
        "    'calorias': [420, 380, 390, 490, 300],\n",
        "    'tiempo': [60, 40, 75, 55, 45],\n",
        "    'reto': [True, True, False, True, False]\n",
        "}, index=['L', 'J', 'X', 'M', 'V'])\n",
        "\n",
        "# calcular porcentaje de filas que cumplen con \"reto\" True\n",
        "pct_reto_true = (df['reto'].value_counts(normalize=True)[True]) * 100\n",
        "\n",
        "# imprimir porcentaje de filas que cumplen con \"reto\" True\n",
        "print(f\"Porcentaje de filas que cumplen con 'reto' True: {pct_reto_true:.2f}%\")\n",
        "\n",
        "# calcular porcentaje de filas que cumplen con \"reto\" False\n",
        "pct_reto_false = (df['reto'].value_counts(normalize=True)[False]) * 100\n",
        "\n",
        "# imprimir porcentaje de filas que cumplen con \"reto\" False\n",
        "print(f\"Porcentaje de filas que cumplen con 'reto' False: {pct_reto_false:.2f}%\")\n"
      ],
      "metadata": {
        "colab": {
          "base_uri": "https://localhost:8080/"
        },
        "id": "ZR3yjGxIVvrJ",
        "outputId": "63b3288e-0069-45db-81a2-3d7fd6a89c12"
      },
      "execution_count": 1,
      "outputs": [
        {
          "output_type": "stream",
          "name": "stdout",
          "text": [
            "Porcentaje de filas que cumplen con 'reto' True: 60.00%\n",
            "Porcentaje de filas que cumplen con 'reto' False: 40.00%\n"
          ]
        }
      ]
    },
    {
      "cell_type": "code",
      "source": [
        "\n",
        "import matplotlib.pyplot as plt\n",
        "import pandas as pd\n",
        "\n",
        "fig, ax = plt.subplots()\n",
        "\n",
        "ax.plot(df['calorias'], color='blue')\n",
        "ax.set_xlabel('Días de la semana')\n",
        "ax.set_ylabel('Calorías')\n",
        "ax.set_title('Progresión de calorías y tiempo durante la semana')\n",
        "\n",
        "ax2 = ax.twinx()\n",
        "ax2.plot(df['tiempo'], color='red')\n",
        "ax2.set_ylabel('Tiempo (minutos)')\n",
        "\n",
        "plt.show()\n"
      ],
      "metadata": {
        "colab": {
          "base_uri": "https://localhost:8080/",
          "height": 472
        },
        "id": "KA0QbhmyWmnt",
        "outputId": "1ab3c904-bf57-4946-f3e2-547d695df3c4"
      },
      "execution_count": 2,
      "outputs": [
        {
          "output_type": "display_data",
          "data": {
            "text/plain": [
              "<Figure size 640x480 with 2 Axes>"
            ],
            "image/png": "[encoded data removed]"
          },
          "metadata": {}
        }
      ]
    }
  ]
}